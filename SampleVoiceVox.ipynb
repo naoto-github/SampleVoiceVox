{
 "cells": [
  {
   "cell_type": "code",
   "execution_count": 1,
   "id": "e3bcf1b8-3448-45dc-ab83-7ff93cb39931",
   "metadata": {},
   "outputs": [],
   "source": [
    "import requests\n",
    "import json\n",
    "import pyaudio"
   ]
  },
  {
   "cell_type": "code",
   "execution_count": 8,
   "id": "9f1f4ab1-89bb-4ebb-976b-7aafe18c44ca",
   "metadata": {},
   "outputs": [],
   "source": [
    "def generateVoice(text, speaker):\n",
    "    host = \"127.0.0.1\"\n",
    "    port = 50021\n",
    "\n",
    "    params = ((\"text\", text), (\"speaker\", speaker))\n",
    "\n",
    "    query = requests.post(\n",
    "        f\"http://{host}:{port}/audio_query\",\n",
    "        params = params,\n",
    "    )\n",
    "\n",
    "    synthesis = requests.post(\n",
    "        f\"http://{host}:{port}/synthesis\",\n",
    "        headers = {\"Content-Type\": \"application/json\"},\n",
    "        params = params,\n",
    "        data = json.dumps(query.json())\n",
    "    )\n",
    "\n",
    "    return synthesis.content"
   ]
  },
  {
   "cell_type": "code",
   "execution_count": 10,
   "id": "8adf6799-cb2e-4b64-8441-3c4f92cc7155",
   "metadata": {},
   "outputs": [],
   "source": [
    "content = generateVoice(\"テスト\", 3)\n",
    "\n",
    "with open(\"sample.wav\", \"wb\") as f:\n",
    "    f.write(content)"
   ]
  }
 ],
 "metadata": {
  "kernelspec": {
   "display_name": "Python 3 (ipykernel)",
   "language": "python",
   "name": "python3"
  },
  "language_info": {
   "codemirror_mode": {
    "name": "ipython",
    "version": 3
   },
   "file_extension": ".py",
   "mimetype": "text/x-python",
   "name": "python",
   "nbconvert_exporter": "python",
   "pygments_lexer": "ipython3",
   "version": "3.9.13"
  }
 },
 "nbformat": 4,
 "nbformat_minor": 5
}
